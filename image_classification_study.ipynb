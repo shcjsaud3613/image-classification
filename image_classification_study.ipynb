{
  "nbformat": 4,
  "nbformat_minor": 0,
  "metadata": {
    "colab": {
      "name": "image_classification_study",
      "provenance": [],
      "collapsed_sections": [],
      "authorship_tag": "ABX9TyMDibzF+Z6o7Kmt87mVCgGS",
      "include_colab_link": true
    },
    "kernelspec": {
      "name": "python3",
      "display_name": "Python 3"
    },
    "language_info": {
      "name": "python"
    }
  },
  "cells": [
    {
      "cell_type": "markdown",
      "metadata": {
        "id": "view-in-github",
        "colab_type": "text"
      },
      "source": [
        "<a href=\"https://colab.research.google.com/github/shcjsaud3613/image-classification/blob/main/image_classification_study.ipynb\" target=\"_parent\"><img src=\"https://colab.research.google.com/assets/colab-badge.svg\" alt=\"Open In Colab\"/></a>"
      ]
    },
    {
      "cell_type": "markdown",
      "metadata": {
        "id": "BP9h4IBu2OB9"
      },
      "source": [
        "# 이미지 분류 학습"
      ]
    },
    {
      "cell_type": "markdown",
      "metadata": {
        "id": "wJuE7bD-2p4n"
      },
      "source": [
        "[Google Colab 링크](https://colab.research.google.com/drive/1PtPeAJrISpmsSzb_KG5TThaT3cIgNVfF#scrollTo=wJuE7bD-2p4n)"
      ]
    },
    {
      "cell_type": "markdown",
      "metadata": {
        "id": "G6_jGKnF28Ff"
      },
      "source": [
        "이 학습 파일에서는 `keras.Sequential` 모델을 사용한다.\n"
      ]
    },
    {
      "cell_type": "markdown",
      "metadata": {
        "id": "mtZps-Qb34jW"
      },
      "source": [
        "## TensorFlow 설치"
      ]
    },
    {
      "cell_type": "markdown",
      "metadata": {
        "id": "OT63pIRi38t2"
      },
      "source": [
        "가끔 `tensorflow` 대신 `tf-nightly` 를 설치하는 개발자도 볼 수 있는데, 둘의 차이점은 아래와 같다.\n",
        "- `tensorflow`: 안정된 버전의 텐서플로우. 패치로 인해 변경되지 않는다.\n",
        "- `tf-nightly`: 일일 빌드 버전의 텐서플로우. 매일 개발, 수정되는 텐서플로우를 빌드하여 배포한 버전이다. 패치에 따라 내용이 변경될 수 있기에 불안정하다."
      ]
    },
    {
      "cell_type": "code",
      "metadata": {
        "id": "0UxlH8tW2Rhb"
      },
      "source": [
        "!pip install tensorflow"
      ],
      "execution_count": null,
      "outputs": []
    },
    {
      "cell_type": "markdown",
      "metadata": {
        "id": "CaA6r5kD3lQ5"
      },
      "source": [
        "## TensorFlow 및 기타 라이브러리 가져오기"
      ]
    },
    {
      "cell_type": "code",
      "metadata": {
        "id": "GYCUN7WR5kWV"
      },
      "source": [
        "import matplotlib.pyplot as plt\n",
        "import numpy as np\n",
        "import os\n",
        "import PIL\n",
        "import tensorflow as tf\n",
        "\n",
        "from tensorflow import keras\n",
        "from tensorflow.keras import layers\n",
        "from tensorflow.keras.models import Sequential"
      ],
      "execution_count": 2,
      "outputs": []
    },
    {
      "cell_type": "markdown",
      "metadata": {
        "id": "-6mWAGKQ5p0N"
      },
      "source": [
        "## 데이터세트 다운로드 및 탐색하기"
      ]
    },
    {
      "cell_type": "markdown",
      "metadata": {
        "id": "w6-5KIVF52WM"
      },
      "source": [
        "이 학습에서는 7000장의 음식 사진 데이터세트를 사용한다. 데이터세트에는 클래스당 하나씩 7개의 하위 디렉토리가 있다.\n",
        "\n",
        "```\n",
        "other_food/\n",
        "  과메기/\n",
        "  양념치킨/\n",
        "  젓갈/\n",
        "  콩자반/\n",
        "  편육/\n",
        "  피자/\n",
        "  후라이드치킨/\n",
        "```"
      ]
    }
  ]
}